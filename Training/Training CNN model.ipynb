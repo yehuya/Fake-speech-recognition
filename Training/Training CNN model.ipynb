{
 "cells": [
  {
   "cell_type": "markdown",
   "metadata": {},
   "source": [
    "# Training CNN model \n",
    "Deep learning CNN model, recognize between synthetic and human speech.\n",
    "\n",
    "Helper source - http://dkopczyk.quantee.co.uk/speech-nn/"
   ]
  },
  {
   "cell_type": "code",
   "execution_count": 545,
   "metadata": {},
   "outputs": [],
   "source": [
    "import os\n",
    "import numpy as np\n",
    "import pandas as pd\n",
    "import random\n",
    "    \n",
    "from glob import glob\n",
    "\n",
    "from scipy.io import wavfile\n",
    "from scipy.signal import stft\n",
    "\n",
    "from sklearn.model_selection import train_test_split\n",
    "from sklearn.metrics import accuracy_score\n",
    "\n",
    "from keras.models import Model\n",
    "from keras.callbacks import EarlyStopping\n",
    "from keras.utils import to_categorical\n",
    "from keras.layers import Conv2D, MaxPooling2D, BatchNormalization, Input, Flatten, Dense, Dropout"
   ]
  },
  {
   "cell_type": "markdown",
   "metadata": {},
   "source": [
    "## Load dataset"
   ]
  },
  {
   "cell_type": "markdown",
   "metadata": {},
   "source": [
    "Source with some changes: https://github.com/dawidkopczyk/speech_recognition/blob/master/dataset.py"
   ]
  },
  {
   "cell_type": "code",
   "execution_count": 546,
   "metadata": {},
   "outputs": [],
   "source": [
    "class DatasetGenerator():\n",
    "    def __init__(self, label_set, \n",
    "                 sample_rate=16000):\n",
    "        \n",
    "        self.label_set = label_set\n",
    "        self.sample_rate = sample_rate\n",
    "            \n",
    "    # Covert string to numerical classes              \n",
    "    def text_to_labels(self, text):\n",
    "        return self.label_set.index(text)\n",
    "    \n",
    "    # Reverse translation of numerical classes back to characters\n",
    "    def labels_to_text(self, labels):\n",
    "        return self.label_set[labels]               \n",
    "        \n",
    "    def load_data(self, DIR):\n",
    "\n",
    "        # Get all paths inside DIR that ends with wav\n",
    "        wav_files = glob(os.path.join(DIR, '*/*wav'))\n",
    "        wav_files = [x.split(sep='/')[1] + '/' + x.split(sep='/')[2] for x in wav_files]\n",
    "        \n",
    "        # Loop over files to get samples\n",
    "        data = []\n",
    "        for e in wav_files:\n",
    "            label, name = e.split('/')\n",
    "\n",
    "            if label in self.label_set:\n",
    "                label_id = self.text_to_labels(label)\n",
    "                fle = os.path.join(DIR, e)\n",
    "                \n",
    "                sample = (label, label_id, name, fle)\n",
    "                data.append(sample)\n",
    "            \n",
    "        # Data Frames with samples' labels and paths     \n",
    "        df = pd.DataFrame(data, columns = ['label', 'label_id', 'user_id', 'wav_file'])\n",
    "        \n",
    "        self.df = df\n",
    "        \n",
    "        return self.df\n",
    "\n",
    "    def apply_train_test_split(self, test_size, random_state):\n",
    "        \n",
    "        self.df_train, self.df_test = train_test_split(self.df, \n",
    "                                                       test_size=test_size,\n",
    "                                                       random_state=random_state)\n",
    "        \n",
    "    def apply_train_val_split(self, val_size, random_state):\n",
    "        \n",
    "        self.df_train, self.df_val = train_test_split(self.df_train, \n",
    "                                                      test_size=val_size, \n",
    "                                                      random_state=random_state)\n",
    "        \n",
    "    def read_wav_file(self, x):\n",
    "        # Read wavfile using scipy wavfile.read\n",
    "        # _, wav = wavfile.read(x) \n",
    "        # Normalize\n",
    "        # wav = wav.astype(np.float32) / np.iinfo(np.int16).max\n",
    "        wav, _ = librosa.load(x, sr=SR, dtype='float32')\n",
    "        wav = wav / np.iinfo(np.int16).max\n",
    "            \n",
    "        return wav\n",
    "    \n",
    "    def process_wav_file(self, x, threshold_freq=5500, eps=1e-10):\n",
    "        # Read wav file to array\n",
    "        wav = self.read_wav_file(x)\n",
    "        # Sample rate\n",
    "        L = self.sample_rate\n",
    "        # If longer then randomly truncate\n",
    "        if len(wav) > L:\n",
    "            i = np.random.randint(0, len(wav) - L)\n",
    "            wav = wav[i:(i+L)]  \n",
    "        # If shorter then randomly add silence\n",
    "        elif len(wav) < L:\n",
    "            rem_len = L - len(wav)\n",
    "            silence_part = np.random.randint(-100,100,16000).astype(np.float32) / np.iinfo(np.int16).max\n",
    "            j = np.random.randint(0, rem_len)\n",
    "            silence_part_left  = silence_part[0:j]\n",
    "            silence_part_right = silence_part[j:rem_len]\n",
    "            wav = np.concatenate([silence_part_left, wav, silence_part_right])\n",
    "       \n",
    "        # Create spectrogram using discrete FFT (change basis to frequencies)\n",
    "        freqs, times, spec = stft(wav, L, nperseg = 400, noverlap = 240, nfft = 512, padded = False, boundary = None)\n",
    "        # Cut high frequencies\n",
    "        if threshold_freq is not None:\n",
    "            spec = spec[freqs <= threshold_freq,:]\n",
    "            freqs = freqs[freqs <= threshold_freq]\n",
    "        # Log spectrogram\n",
    "        amp = np.log(np.abs(spec)+eps)\n",
    "    \n",
    "        return np.expand_dims(amp, axis=2) \n",
    "\n",
    "    def generator(self, batch_size, mode):\n",
    "        while True:\n",
    "            # Depending on mode select DataFrame with paths\n",
    "            if mode == 'train':\n",
    "                df = self.df_train \n",
    "                ids = random.sample(range(df.shape[0]), df.shape[0])\n",
    "            elif mode == 'val':\n",
    "                df = self.df_val\n",
    "                ids = list(range(df.shape[0]))\n",
    "            elif mode == 'test':\n",
    "                df = self.df_test\n",
    "                ids = list(range(df.shape[0]))\n",
    "            else:\n",
    "                raise ValueError('The mode should be either train, val or test.')\n",
    "                \n",
    "            # Create batches (for training data the batches are randomly permuted)\n",
    "            for start in range(0, len(ids), batch_size):\n",
    "                X_batch = []\n",
    "                if mode != 'test': \n",
    "                    y_batch = []\n",
    "                end = min(start + batch_size, len(ids))\n",
    "                i_batch = ids[start:end]\n",
    "                for i in i_batch:\n",
    "                    X_batch.append(self.process_wav_file(df.wav_file.values[i]))\n",
    "                    if mode != 'test':\n",
    "                        y_batch.append(df.label_id.values[i])\n",
    "                X_batch = np.array(X_batch)\n",
    "\n",
    "                if mode != 'test':\n",
    "                    y_batch = to_categorical(y_batch, num_classes = len(self.label_set))\n",
    "                    yield (X_batch, y_batch)\n",
    "                else:\n",
    "                    yield X_batch"
   ]
  },
  {
   "cell_type": "markdown",
   "metadata": {},
   "source": [
    "## Training"
   ]
  },
  {
   "cell_type": "code",
   "execution_count": 547,
   "metadata": {},
   "outputs": [],
   "source": [
    "DIR = 'audio_train' # unzipped train and test data\n",
    "\n",
    "INPUT_SHAPE = (177,98,1)\n",
    "BATCH = 32\n",
    "EPOCHS = 15\n",
    "\n",
    "LABELS = 'bot human'.split()\n",
    "NUM_CLASSES = len(LABELS)"
   ]
  },
  {
   "cell_type": "code",
   "execution_count": 548,
   "metadata": {},
   "outputs": [],
   "source": [
    "dsGen = DatasetGenerator(label_set=LABELS) \n",
    "\n",
    "# Load DataFrame with paths/labels \n",
    "df = dsGen.load_data(DIR)"
   ]
  },
  {
   "cell_type": "code",
   "execution_count": 549,
   "metadata": {
    "scrolled": false
   },
   "outputs": [
    {
     "data": {
      "text/html": [
       "<div>\n",
       "<style scoped>\n",
       "    .dataframe tbody tr th:only-of-type {\n",
       "        vertical-align: middle;\n",
       "    }\n",
       "\n",
       "    .dataframe tbody tr th {\n",
       "        vertical-align: top;\n",
       "    }\n",
       "\n",
       "    .dataframe thead th {\n",
       "        text-align: right;\n",
       "    }\n",
       "</style>\n",
       "<table border=\"1\" class=\"dataframe\">\n",
       "  <thead>\n",
       "    <tr style=\"text-align: right;\">\n",
       "      <th></th>\n",
       "      <th>label</th>\n",
       "      <th>label_id</th>\n",
       "      <th>user_id</th>\n",
       "      <th>wav_file</th>\n",
       "    </tr>\n",
       "  </thead>\n",
       "  <tbody>\n",
       "    <tr>\n",
       "      <th>0</th>\n",
       "      <td>bot</td>\n",
       "      <td>0</td>\n",
       "      <td>two-658.wav</td>\n",
       "      <td>audio_train/bot/two-658.wav</td>\n",
       "    </tr>\n",
       "    <tr>\n",
       "      <th>1</th>\n",
       "      <td>bot</td>\n",
       "      <td>0</td>\n",
       "      <td>bird-1333.wav</td>\n",
       "      <td>audio_train/bot/bird-1333.wav</td>\n",
       "    </tr>\n",
       "    <tr>\n",
       "      <th>2</th>\n",
       "      <td>bot</td>\n",
       "      <td>0</td>\n",
       "      <td>no-557.wav</td>\n",
       "      <td>audio_train/bot/no-557.wav</td>\n",
       "    </tr>\n",
       "    <tr>\n",
       "      <th>3</th>\n",
       "      <td>bot</td>\n",
       "      <td>0</td>\n",
       "      <td>two-880.wav</td>\n",
       "      <td>audio_train/bot/two-880.wav</td>\n",
       "    </tr>\n",
       "    <tr>\n",
       "      <th>4</th>\n",
       "      <td>bot</td>\n",
       "      <td>0</td>\n",
       "      <td>off-1090.wav</td>\n",
       "      <td>audio_train/bot/off-1090.wav</td>\n",
       "    </tr>\n",
       "    <tr>\n",
       "      <th>5</th>\n",
       "      <td>bot</td>\n",
       "      <td>0</td>\n",
       "      <td>sheila-1127.wav</td>\n",
       "      <td>audio_train/bot/sheila-1127.wav</td>\n",
       "    </tr>\n",
       "    <tr>\n",
       "      <th>6</th>\n",
       "      <td>bot</td>\n",
       "      <td>0</td>\n",
       "      <td>cat-194.wav</td>\n",
       "      <td>audio_train/bot/cat-194.wav</td>\n",
       "    </tr>\n",
       "    <tr>\n",
       "      <th>7</th>\n",
       "      <td>bot</td>\n",
       "      <td>0</td>\n",
       "      <td>stop-1258.wav</td>\n",
       "      <td>audio_train/bot/stop-1258.wav</td>\n",
       "    </tr>\n",
       "    <tr>\n",
       "      <th>8</th>\n",
       "      <td>bot</td>\n",
       "      <td>0</td>\n",
       "      <td>tree-586.wav</td>\n",
       "      <td>audio_train/bot/tree-586.wav</td>\n",
       "    </tr>\n",
       "    <tr>\n",
       "      <th>9</th>\n",
       "      <td>bot</td>\n",
       "      <td>0</td>\n",
       "      <td>bird-874.wav</td>\n",
       "      <td>audio_train/bot/bird-874.wav</td>\n",
       "    </tr>\n",
       "  </tbody>\n",
       "</table>\n",
       "</div>"
      ],
      "text/plain": [
       "  label  label_id          user_id                         wav_file\n",
       "0   bot         0      two-658.wav      audio_train/bot/two-658.wav\n",
       "1   bot         0    bird-1333.wav    audio_train/bot/bird-1333.wav\n",
       "2   bot         0       no-557.wav       audio_train/bot/no-557.wav\n",
       "3   bot         0      two-880.wav      audio_train/bot/two-880.wav\n",
       "4   bot         0     off-1090.wav     audio_train/bot/off-1090.wav\n",
       "5   bot         0  sheila-1127.wav  audio_train/bot/sheila-1127.wav\n",
       "6   bot         0      cat-194.wav      audio_train/bot/cat-194.wav\n",
       "7   bot         0    stop-1258.wav    audio_train/bot/stop-1258.wav\n",
       "8   bot         0     tree-586.wav     audio_train/bot/tree-586.wav\n",
       "9   bot         0     bird-874.wav     audio_train/bot/bird-874.wav"
      ]
     },
     "execution_count": 549,
     "metadata": {},
     "output_type": "execute_result"
    }
   ],
   "source": [
    "df[:10]"
   ]
  },
  {
   "cell_type": "code",
   "execution_count": 550,
   "metadata": {},
   "outputs": [
    {
     "data": {
      "text/plain": [
       "107378"
      ]
     },
     "execution_count": 550,
     "metadata": {},
     "output_type": "execute_result"
    }
   ],
   "source": [
    "len(df)"
   ]
  },
  {
   "cell_type": "code",
   "execution_count": 551,
   "metadata": {},
   "outputs": [],
   "source": [
    "dsGen.apply_train_test_split(test_size=0.3, random_state=2018)\n",
    "dsGen.apply_train_val_split(val_size=0.2, random_state=2018)"
   ]
  },
  {
   "cell_type": "code",
   "execution_count": 552,
   "metadata": {},
   "outputs": [],
   "source": [
    "def deep_cnn(features_shape, num_classes, act='relu'):\n",
    " \n",
    "    x = Input(name='inputs', shape=features_shape, dtype='float32')\n",
    "    o = x\n",
    "    \n",
    "    # Block 1\n",
    "    o = Conv2D(32, (3, 3), activation=act, padding='same', strides=1, name='block1_conv', input_shape=features_shape)(o)\n",
    "    o = MaxPooling2D((3, 3), strides=(2,2), padding='same', name='block1_pool')(o)\n",
    "    o = BatchNormalization(name='block1_norm')(o)\n",
    "    \n",
    "    # Block 2\n",
    "    o = Conv2D(32, (3, 3), activation=act, padding='same', strides=1, name='block2_conv')(o)\n",
    "    o = MaxPooling2D((3, 3), strides=(2,2), padding='same', name='block2_pool')(o)\n",
    "    o = BatchNormalization(name='block2_norm')(o)\n",
    " \n",
    "    # Block 3\n",
    "    o = Conv2D(32, (3, 3), activation=act, padding='same', strides=1, name='block3_conv')(o)\n",
    "    o = MaxPooling2D((3, 3), strides=(2,2), padding='same', name='block3_pool')(o)\n",
    "    o = BatchNormalization(name='block3_norm')(o)\n",
    " \n",
    "    # Flatten\n",
    "    o = Flatten(name='flatten')(o)\n",
    "    \n",
    "    # Dense layer\n",
    "    o = Dense(64, activation=act, name='dense')(o)\n",
    "    o = BatchNormalization(name='dense_norm')(o)\n",
    "    o = Dropout(0.2, name='dropout')(o)\n",
    "    \n",
    "    # Predictions\n",
    "    o = Dense(num_classes, activation='softmax', name='pred')(o)\n",
    " \n",
    "    # Print network summary\n",
    "    Model(inputs=x, outputs=o).summary()\n",
    "    \n",
    "    return Model(inputs=x, outputs=o)"
   ]
  },
  {
   "cell_type": "code",
   "execution_count": 553,
   "metadata": {},
   "outputs": [
    {
     "name": "stdout",
     "output_type": "stream",
     "text": [
      "_________________________________________________________________\n",
      "Layer (type)                 Output Shape              Param #   \n",
      "=================================================================\n",
      "inputs (InputLayer)          (None, 177, 98, 1)        0         \n",
      "_________________________________________________________________\n",
      "block1_conv (Conv2D)         (None, 177, 98, 32)       320       \n",
      "_________________________________________________________________\n",
      "block1_pool (MaxPooling2D)   (None, 89, 49, 32)        0         \n",
      "_________________________________________________________________\n",
      "block1_norm (BatchNormalizat (None, 89, 49, 32)        128       \n",
      "_________________________________________________________________\n",
      "block2_conv (Conv2D)         (None, 89, 49, 32)        9248      \n",
      "_________________________________________________________________\n",
      "block2_pool (MaxPooling2D)   (None, 45, 25, 32)        0         \n",
      "_________________________________________________________________\n",
      "block2_norm (BatchNormalizat (None, 45, 25, 32)        128       \n",
      "_________________________________________________________________\n",
      "block3_conv (Conv2D)         (None, 45, 25, 32)        9248      \n",
      "_________________________________________________________________\n",
      "block3_pool (MaxPooling2D)   (None, 23, 13, 32)        0         \n",
      "_________________________________________________________________\n",
      "block3_norm (BatchNormalizat (None, 23, 13, 32)        128       \n",
      "_________________________________________________________________\n",
      "flatten (Flatten)            (None, 9568)              0         \n",
      "_________________________________________________________________\n",
      "dense (Dense)                (None, 64)                612416    \n",
      "_________________________________________________________________\n",
      "dense_norm (BatchNormalizati (None, 64)                256       \n",
      "_________________________________________________________________\n",
      "dropout (Dropout)            (None, 64)                0         \n",
      "_________________________________________________________________\n",
      "pred (Dense)                 (None, 2)                 130       \n",
      "=================================================================\n",
      "Total params: 632,002\n",
      "Trainable params: 631,682\n",
      "Non-trainable params: 320\n",
      "_________________________________________________________________\n",
      "Epoch 1/15\n",
      "1880/1880 [==============================] - 1100s 585ms/step - loss: 0.0335 - acc: 0.9897 - val_loss: 0.5543 - val_acc: 0.8779\n",
      "Epoch 2/15\n",
      "1880/1880 [==============================] - 1315s 700ms/step - loss: 0.0172 - acc: 0.9952 - val_loss: 0.0061 - val_acc: 0.9985\n",
      "Epoch 3/15\n",
      "1880/1880 [==============================] - 1269s 675ms/step - loss: 0.0125 - acc: 0.9964 - val_loss: 0.4106 - val_acc: 0.9507\n",
      "Epoch 4/15\n",
      "1880/1880 [==============================] - 7414s 4s/step - loss: 0.0097 - acc: 0.9975 - val_loss: 0.0365 - val_acc: 0.9940\n",
      "Epoch 5/15\n",
      "1880/1880 [==============================] - 1096s 583ms/step - loss: 0.0097 - acc: 0.9973 - val_loss: 0.0179 - val_acc: 0.9976\n",
      "Epoch 6/15\n",
      "1880/1880 [==============================] - 1147s 610ms/step - loss: 0.0084 - acc: 0.9982 - val_loss: 0.0182 - val_acc: 0.9969\n",
      "Epoch 00006: early stopping\n",
      "Saved model to disk\n"
     ]
    }
   ],
   "source": [
    "model = deep_cnn(INPUT_SHAPE, NUM_CLASSES)\n",
    "model.compile(optimizer='Adam', loss='categorical_crossentropy', metrics=['acc'])\n",
    " \n",
    "callbacks = [EarlyStopping(monitor='val_acc', patience=4, verbose=1, mode='max')]\n",
    " \n",
    "history = model.fit_generator(generator=dsGen.generator(BATCH, mode='train'),\n",
    "                              steps_per_epoch=int(np.ceil(len(dsGen.df_train)/BATCH)),\n",
    "                              epochs=EPOCHS,\n",
    "                              verbose=1,\n",
    "                              callbacks=callbacks,\n",
    "                              validation_data=dsGen.generator(BATCH, mode='val'),\n",
    "                              validation_steps=int(np.ceil(len(dsGen.df_val)/BATCH)))\n",
    "model.save(\"model.h5\")\n",
    "print(\"Saved model to disk\")"
   ]
  },
  {
   "cell_type": "code",
   "execution_count": 554,
   "metadata": {
    "scrolled": true
   },
   "outputs": [
    {
     "name": "stdout",
     "output_type": "stream",
     "text": [
      "1007/1007 [==============================] - 242s 240ms/step\n",
      "0.9970509716272428\n"
     ]
    }
   ],
   "source": [
    "y_pred_proba = model.predict_generator(dsGen.generator(BATCH, mode='test'), \n",
    "                                     int(np.ceil(len(dsGen.df_test)/BATCH)), \n",
    "                                     verbose=1)\n",
    "y_pred = np.argmax(y_pred_proba, axis=1)\n",
    " \n",
    "y_true = dsGen.df_test['label_id'].values\n",
    " \n",
    "acc_score = accuracy_score(y_true, y_pred)\n",
    "print(acc_score)"
   ]
  },
  {
   "cell_type": "code",
   "execution_count": 561,
   "metadata": {},
   "outputs": [
    {
     "name": "stdout",
     "output_type": "stream",
     "text": [
      "dict_keys(['val_loss', 'val_acc', 'loss', 'acc'])\n"
     ]
    },
    {
     "data": {
      "image/png": "[encoded data removed]",
      "text/plain": [
       "<Figure size 432x288 with 1 Axes>"
      ]
     },
     "metadata": {
      "needs_background": "light"
     },
     "output_type": "display_data"
    },
    {
     "data": {
      "image/png": "[encoded data removed]",
      "text/plain": [
       "<Figure size 432x288 with 1 Axes>"
      ]
     },
     "metadata": {
      "needs_background": "light"
     },
     "output_type": "display_data"
    }
   ],
   "source": [
    "print(history.history.keys())\n",
    "# summarize history for accuracy\n",
    "plt.plot(history.history['acc'])\n",
    "plt.plot(history.history['val_acc'])\n",
    "plt.title('model accuracy')\n",
    "plt.ylabel('accuracy')\n",
    "plt.xlabel('epoch')\n",
    "plt.legend(['train', 'test'], loc='upper left')\n",
    "plt.show()\n",
    "# summarize history for loss\n",
    "plt.plot(history.history['loss'])\n",
    "plt.plot(history.history['val_loss'])\n",
    "plt.title('model loss')\n",
    "plt.ylabel('loss')\n",
    "plt.xlabel('epoch')\n",
    "plt.legend(['train', 'test'], loc='upper left')\n",
    "plt.show()"
   ]
  }
 ],
 "metadata": {
  "kernelspec": {
   "display_name": "Python 3",
   "language": "python",
   "name": "python3"
  },
  "language_info": {
   "codemirror_mode": {
    "name": "ipython",
    "version": 3
   },
   "file_extension": ".py",
   "mimetype": "text/x-python",
   "name": "python",
   "nbconvert_exporter": "python",
   "pygments_lexer": "ipython3",
   "version": "3.6.8"
  }
 },
 "nbformat": 4,
 "nbformat_minor": 2
}
